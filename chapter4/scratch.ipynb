{
 "cells": [
  {
   "cell_type": "code",
   "execution_count": 6,
   "metadata": {},
   "outputs": [
    {
     "name": "stdout",
     "output_type": "stream",
     "text": [
      "Error: 25.502499999999998 Prediction: 4.95\n",
      "Error: 12.407125640624995 Prediction: 6.477625000000001\n",
      "Error: 6.036144168699314 Prediction: 7.5431434375\n",
      "Error: 2.9366218639732704 Prediction: 8.28634254765625\n",
      "Error: 1.4286848907096454 Prediction: 8.804723926990235\n",
      "Error: 0.6950641286108092 Prediction: 9.166294939075689\n",
      "Error: 0.33815304271996255 Prediction: 9.418490720005293\n",
      "Error: 0.1645135687397788 Prediction: 9.594397277203692\n",
      "Error: 0.08003687940170706 Prediction: 9.717092100849575\n",
      "Error: 0.038938442059426766 Prediction: 9.802671740342578\n",
      "Error: 0.018943795427174157 Prediction: 9.862363538888948\n",
      "Error: 0.009216274874041698 Prediction: 9.903998568375041\n",
      "Error: 0.004483775327939041 Prediction: 9.933039001441593\n",
      "Error: 0.0021813847206382676 Prediction: 9.95329470350551\n",
      "Error: 0.0010612573002450043 Prediction: 9.967423055695093\n",
      "Error: 0.000516308309427276 Prediction: 9.977277581347328\n",
      "Error: 0.0002511872194632841 Prediction: 9.984151112989762\n",
      "Error: 0.0001222041521890244 Prediction: 9.988945401310358\n",
      "Error: 5.945308381591326e-05 Prediction: 9.992289417413975\n",
      "Error: 2.8924296858202943e-05 Prediction: 9.994621868646249\n"
     ]
    }
   ],
   "source": [
    "input = 5.5\n",
    "weight = 0.9\n",
    "goal_pred = 10\n",
    "alpha = 0.01\n",
    "\n",
    "# Learn\n",
    "for i in range(20):\n",
    "    pred = input * weight\n",
    "    error = (pred - goal_pred) ** 2\n",
    "    derivative = (pred - goal_pred) * input\n",
    "    weight -= alpha * derivative\n",
    "    print(\"Error:\", error, \"Prediction:\", pred)\n"
   ]
  },
  {
   "cell_type": "code",
   "execution_count": null,
   "metadata": {},
   "outputs": [],
   "source": []
  }
 ],
 "metadata": {
  "kernelspec": {
   "display_name": "Python 3",
   "language": "python",
   "name": "python3"
  },
  "language_info": {
   "codemirror_mode": {
    "name": "ipython",
    "version": 3
   },
   "file_extension": ".py",
   "mimetype": "text/x-python",
   "name": "python",
   "nbconvert_exporter": "python",
   "pygments_lexer": "ipython3",
   "version": "3.8.0"
  }
 },
 "nbformat": 4,
 "nbformat_minor": 4
}
