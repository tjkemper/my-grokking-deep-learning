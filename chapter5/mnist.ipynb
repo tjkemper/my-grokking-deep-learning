{
 "cells": [
  {
   "cell_type": "code",
   "execution_count": 313,
   "metadata": {},
   "outputs": [],
   "source": [
    "from keras.datasets import mnist\n",
    "\n",
    "(x_train, y_train), (x_test, y_test) = mnist.load_data()\n",
    "\n",
    "images = x_train[0:60000]\n",
    "labels = y_train[0:60000]"
   ]
  },
  {
   "cell_type": "code",
   "execution_count": 314,
   "metadata": {},
   "outputs": [],
   "source": [
    "# from matplotlib import pyplot as plt\n",
    "# plt.imshow(images[0])\n",
    "# labels[0]\n",
    "\n",
    "# test = images[0].flatten()\n",
    "# print(test)\n",
    "# test = test / 255\n",
    "# print(test)\n",
    "\n",
    "# test = images[0].flatten() / 255\n",
    "# print(test)"
   ]
  },
  {
   "cell_type": "code",
   "execution_count": 315,
   "metadata": {},
   "outputs": [],
   "source": [
    "import numpy as np"
   ]
  },
  {
   "cell_type": "code",
   "execution_count": 316,
   "metadata": {},
   "outputs": [],
   "source": [
    "# 784 inputs/rows\n",
    "# 10 outputs/cols\n",
    "rows = 784\n",
    "cols = 10\n",
    "\n",
    "# Random starting weights\n",
    "weights = np.random.random((rows, cols))"
   ]
  },
  {
   "cell_type": "code",
   "execution_count": 317,
   "metadata": {},
   "outputs": [],
   "source": [
    "# Alpha\n",
    "alpha = 0.01"
   ]
  },
  {
   "cell_type": "code",
   "execution_count": 318,
   "metadata": {},
   "outputs": [],
   "source": [
    "def nn(input, weights):\n",
    "    return input.dot(weights) / len(input)"
   ]
  },
  {
   "cell_type": "code",
   "execution_count": 319,
   "metadata": {},
   "outputs": [],
   "source": [
    "def train(img_index, weights, iterations):\n",
    "#     print(\"Train:\", img_index)\n",
    "    # Input normalized between 0 and 1\n",
    "    input = images[img_index].flatten() / 255\n",
    "\n",
    "    # Actual results\n",
    "    goal_pred = np.zeros(10)\n",
    "    goal_pred[labels[img_index]] = 1\n",
    "    \n",
    "    for iteration in range(iterations):\n",
    "#         print(\"Iteration:\", iteration)\n",
    "        pred = nn(input, weights)\n",
    "#         print(\"Prediction:\", pred)\n",
    "#         print(\"Weights:\", weights)\n",
    "\n",
    "        delta = np.zeros(len(pred))\n",
    "        error = np.zeros(len(pred))\n",
    "        for i in range(len(pred)):\n",
    "            delta[i] = pred[i] - goal_pred[i]\n",
    "            error[i] = (pred[i] - goal_pred[i]) ** 2\n",
    "#         print(\"Delta:\", delta)\n",
    "#         print(\"Error:\", error)\n",
    "\n",
    "        derivative = np.outer(input, delta)\n",
    "        derivative *= alpha\n",
    "        weights -= derivative\n",
    "#         print(\"New weights\", weights)\n",
    "#         print()"
   ]
  },
  {
   "cell_type": "code",
   "execution_count": 320,
   "metadata": {},
   "outputs": [],
   "source": [
    "training_start = 0\n",
    "training_end = 50000\n",
    "testing_start = training_end\n",
    "testing_end = 60000\n",
    "\n",
    "def train_all():\n",
    "    for i in range(training_start, training_end):\n",
    "        train(i, weights, 10)"
   ]
  },
  {
   "cell_type": "code",
   "execution_count": 321,
   "metadata": {},
   "outputs": [],
   "source": [
    "def classify(img_index):\n",
    "    input = images[img_index].flatten() / 255\n",
    "    pred = nn(input, weights)\n",
    "    max_pred_val = pred[0]\n",
    "    max_pred = 0\n",
    "    for i in range(len(pred)):\n",
    "        if pred[i] > max_pred_val:\n",
    "            max_pred_val = pred[i]\n",
    "            max_pred = i\n",
    "#     print(\"Image index {} | Actual {} | Classified as {} with probability {}\".format(img_index, labels[img_index], max_pred, max_pred_val))\n",
    "    return (max_pred, max_pred_val)"
   ]
  },
  {
   "cell_type": "code",
   "execution_count": 322,
   "metadata": {},
   "outputs": [],
   "source": [
    "def accuracy(start, end):\n",
    "    num_imgs = end - start\n",
    "    correct = 0\n",
    "    \n",
    "    for i in range(start, end):\n",
    "        result = classify(i)\n",
    "        if result[0] == labels[i]:\n",
    "            correct += 1\n",
    "    return correct / num_imgs"
   ]
  },
  {
   "cell_type": "code",
   "execution_count": 327,
   "metadata": {},
   "outputs": [],
   "source": [
    "for i in range(10):\n",
    "    train_all()\n",
    "\n",
    "# train_all()\n",
    "# print(weights)\n",
    "# input = images[0].flatten() / 255\n",
    "# print(nn(input,weights))\n",
    "\n",
    "# print(nn(input, weights))\n",
    "# train(0, weights, 10)\n",
    "# result = classify(0)\n"
   ]
  },
  {
   "cell_type": "code",
   "execution_count": 328,
   "metadata": {},
   "outputs": [
    {
     "name": "stdout",
     "output_type": "stream",
     "text": [
      "Accuracy  (within training set) 0.84776\n",
      "Accuracy (outside training set) 0.8659\n"
     ]
    }
   ],
   "source": [
    "print(\"Accuracy  (within training set)\", accuracy(training_start, training_end))\n",
    "print(\"Accuracy (outside training set)\", accuracy(testing_start, testing_end))\n"
   ]
  },
  {
   "cell_type": "code",
   "execution_count": null,
   "metadata": {},
   "outputs": [],
   "source": []
  },
  {
   "cell_type": "code",
   "execution_count": null,
   "metadata": {},
   "outputs": [],
   "source": []
  }
 ],
 "metadata": {
  "kernelspec": {
   "display_name": "Python36",
   "language": "python",
   "name": "python36"
  },
  "language_info": {
   "codemirror_mode": {
    "name": "ipython",
    "version": 3
   },
   "file_extension": ".py",
   "mimetype": "text/x-python",
   "name": "python",
   "nbconvert_exporter": "python",
   "pygments_lexer": "ipython3",
   "version": "3.6.8"
  }
 },
 "nbformat": 4,
 "nbformat_minor": 4
}
