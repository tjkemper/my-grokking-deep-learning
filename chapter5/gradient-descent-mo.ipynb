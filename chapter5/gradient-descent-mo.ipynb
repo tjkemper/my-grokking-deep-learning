{
 "cells": [
  {
   "cell_type": "code",
   "execution_count": 35,
   "metadata": {},
   "outputs": [],
   "source": [
    "import numpy as np"
   ]
  },
  {
   "cell_type": "code",
   "execution_count": 36,
   "metadata": {},
   "outputs": [],
   "source": [
    "weights = np.array([0.3, 0.2, 0.9])\n",
    "\n",
    "# Inputs\n",
    "wlrec = np.array([0.65, 1.0, 1.0, 0.9])\n",
    "input = wlrec[0]\n",
    "\n",
    "# Actual results\n",
    "hurt = np.array([0.1, 0.0, 0.0, 0.1])\n",
    "win  = np.array([  1,   1,   0,   1])\n",
    "sad  = np.array([0.1, 0.0, 0.1, 0.2])\n",
    "goal_pred = np.array([hurt[0], win[0], sad[0]])"
   ]
  },
  {
   "cell_type": "code",
   "execution_count": 37,
   "metadata": {},
   "outputs": [],
   "source": [
    "def nn(input, weights):\n",
    "    return weights * input"
   ]
  },
  {
   "cell_type": "code",
   "execution_count": 38,
   "metadata": {},
   "outputs": [
    {
     "name": "stdout",
     "output_type": "stream",
     "text": [
      "Iteration: 0\n",
      "Weights: [0.3 0.2 0.9]\n",
      "Prediction: [0.195 0.13  0.585]\n",
      "Errors: [0.009025 0.7569   0.235225]\n",
      "Deltas: [ 0.095 -0.87   0.485]\n",
      "Derivatives: [ 0.06175 -0.5655   0.31525]\n",
      "New weights: [0.293825 0.25655  0.868475]\n",
      "\n"
     ]
    }
   ],
   "source": [
    "iter = 0\n",
    "alpha = 0.1\n",
    "\n",
    "pred = nn(input, weights)\n",
    "\n",
    "error = np.zeros(len(weights))\n",
    "delta = np.zeros(len(weights))\n",
    "\n",
    "for i in range(len(weights)):\n",
    "    error[i] = (pred[i] - goal_pred[i]) ** 2\n",
    "    delta[i] = pred[i] - goal_pred[i]\n",
    "\n",
    "print(\"Iteration:\", iter)\n",
    "print(\"Weights:\", weights)\n",
    "print(\"Prediction:\", pred)\n",
    "print(\"Errors:\", error)\n",
    "print(\"Deltas:\", delta)\n",
    "\n",
    "derivatives = delta * input\n",
    "\n",
    "for i in range(len(weights)):\n",
    "    weights[i] -= alpha * derivatives[i]\n",
    "\n",
    "print(\"Derivatives:\", derivatives)\n",
    "print(\"New weights:\", weights)\n",
    "\n",
    "print()"
   ]
  },
  {
   "cell_type": "code",
   "execution_count": 7,
   "metadata": {},
   "outputs": [
    {
     "name": "stdout",
     "output_type": "stream",
     "text": [
      "[0.195 0.13  0.585]\n"
     ]
    }
   ],
   "source": []
  },
  {
   "cell_type": "code",
   "execution_count": null,
   "metadata": {},
   "outputs": [],
   "source": []
  }
 ],
 "metadata": {
  "kernelspec": {
   "display_name": "Python 3",
   "language": "python",
   "name": "python3"
  },
  "language_info": {
   "codemirror_mode": {
    "name": "ipython",
    "version": 3
   },
   "file_extension": ".py",
   "mimetype": "text/x-python",
   "name": "python",
   "nbconvert_exporter": "python",
   "pygments_lexer": "ipython3",
   "version": "3.8.0"
  }
 },
 "nbformat": 4,
 "nbformat_minor": 4
}
