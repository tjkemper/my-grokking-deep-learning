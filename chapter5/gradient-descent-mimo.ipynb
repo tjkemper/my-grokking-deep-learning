{
 "cells": [
  {
   "cell_type": "code",
   "execution_count": 1,
   "metadata": {},
   "outputs": [],
   "source": [
    "import numpy as np"
   ]
  },
  {
   "cell_type": "code",
   "execution_count": 38,
   "metadata": {},
   "outputs": [],
   "source": [
    "# weights[output][input]\n",
    "# weights = np.array([\n",
    "#   # toes wlrec nfans\n",
    "#     [0.1, 0.1, -0.3], # hurt\n",
    "#     [0.1, 0.2, 0.0],  # win\n",
    "#     [0.0, 1.3, 0.1],  # sad\n",
    "# ]).T\n",
    "\n",
    "# weights[input][output]\n",
    "weights = np.array([\n",
    "  # hurt  win  sad\n",
    "    [0.1, 0.1, 0.0],  # toes\n",
    "    [0.1, 0.2, 1.3],  # wlrec\n",
    "    [-0.3, 0.0, 0.1], # nfans\n",
    "])\n",
    "\n",
    "# Inputs\n",
    "toes = np.array([8.5, 9.5, 9.9, 9.0])\n",
    "wlrec = np.array([0.65, 0.8, 0.8, 0.9])\n",
    "nfans = np.array([1.2, 1.3, 0.5, 1.0])\n",
    "input = np.array([toes[0], wlrec[0], nfans[0]])\n",
    "\n",
    "# Actual results\n",
    "hurt = np.array([0.1, 0.0, 0.0, 0.1])\n",
    "win  = np.array([  1,   1,   0,   1])\n",
    "sad  = np.array([0.1, 0.0, 0.1, 0.2])\n",
    "goal_pred = np.array([hurt[0], win[0], sad[0]])\n",
    "\n",
    "# Alpha\n",
    "alpha = 0.01"
   ]
  },
  {
   "cell_type": "code",
   "execution_count": 39,
   "metadata": {},
   "outputs": [],
   "source": [
    "def nn(input, weights):\n",
    "    return input.dot(weights)"
   ]
  },
  {
   "cell_type": "code",
   "execution_count": 40,
   "metadata": {},
   "outputs": [
    {
     "name": "stdout",
     "output_type": "stream",
     "text": [
      "Iter: 0\n",
      "Prediction: [0.555 0.98  0.965]\n",
      "Weights:\n",
      " [[ 0.1  0.1  0. ]\n",
      " [ 0.1  0.2  1.3]\n",
      " [-0.3  0.   0.1]]\n",
      "Error: [2.07025e-01 4.00000e-04 7.48225e-01]\n",
      "Deltas: [ 0.455 -0.02   0.865]\n",
      "Derivatives:\n",
      " [[ 3.8675  -0.17     7.3525 ]\n",
      " [ 0.29575 -0.013    0.56225]\n",
      " [ 0.546   -0.024    1.038  ]]\n",
      "New weights:\n",
      " [[ 6.1325000e-02  1.0170000e-01 -7.3525000e-02]\n",
      " [ 9.7042500e-02  2.0013000e-01  1.2943775e+00]\n",
      " [-3.0546000e-01  2.4000000e-04  8.9620000e-02]]\n",
      "\n"
     ]
    }
   ],
   "source": [
    "iter = 0\n",
    "pred = nn(input, weights)\n",
    "\n",
    "print(\"Iter:\", iter)\n",
    "print(\"Prediction:\", pred)\n",
    "print(\"Weights:\\n\", weights)\n",
    "\n",
    "delta = np.zeros(len(pred))\n",
    "error = np.zeros(len(pred))\n",
    "for i in range(len(pred)):\n",
    "    delta[i] = pred[i] - goal_pred[i]\n",
    "    error[i] = (pred[i] - goal_pred[i]) ** 2\n",
    "print(\"Error:\", error)\n",
    "print(\"Deltas:\", delta)\n",
    "\n",
    "derivatives = np.outer(input, delta)\n",
    "print(\"Derivatives:\\n\", derivatives)\n",
    "\n",
    "derivatives *= alpha\n",
    "weights -= derivatives\n",
    "print(\"New weights:\\n\", weights)\n",
    "\n",
    "print()\n"
   ]
  },
  {
   "cell_type": "code",
   "execution_count": 33,
   "metadata": {},
   "outputs": [
    {
     "name": "stdout",
     "output_type": "stream",
     "text": [
      "[[0 1 2]\n",
      " [3 4 5]\n",
      " [6 7 8]]\n"
     ]
    }
   ],
   "source": [
    "a = np.array([\n",
    "    [1,2,3],\n",
    "    [4,5,6],\n",
    "    [7,8,9],\n",
    "])\n",
    "b = np.array([\n",
    "    [1,1,1],\n",
    "    [1,1,1],\n",
    "    [1,1,1],\n",
    "])\n",
    "c = a - b\n",
    "print(c)\n"
   ]
  },
  {
   "cell_type": "code",
   "execution_count": null,
   "metadata": {},
   "outputs": [],
   "source": []
  }
 ],
 "metadata": {
  "kernelspec": {
   "display_name": "Python 3",
   "language": "python",
   "name": "python3"
  },
  "language_info": {
   "codemirror_mode": {
    "name": "ipython",
    "version": 3
   },
   "file_extension": ".py",
   "mimetype": "text/x-python",
   "name": "python",
   "nbconvert_exporter": "python",
   "pygments_lexer": "ipython3",
   "version": "3.8.0"
  }
 },
 "nbformat": 4,
 "nbformat_minor": 4
}
