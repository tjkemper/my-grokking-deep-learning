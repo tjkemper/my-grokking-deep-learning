{
 "cells": [
  {
   "cell_type": "code",
   "execution_count": 31,
   "metadata": {},
   "outputs": [],
   "source": [
    "import numpy as np\n",
    "\n",
    "weights = np.array([0.1, 0.2, -0.1])\n",
    "\n",
    "toes = np.array([8.5, 9.5, 9.9, 9.0])\n",
    "wlrec = np.array([0.65, 0.8, 0.8, 0.9])\n",
    "nfans = np.array([1.2, 1.3, 0.5, 1.0])"
   ]
  },
  {
   "cell_type": "code",
   "execution_count": 32,
   "metadata": {},
   "outputs": [],
   "source": [
    "def w_sum(a,b):\n",
    "    assert(len(a) == len(b))\n",
    "    output = 0\n",
    "    for i in range(len(a)):\n",
    "        output += a[i] * b[i]\n",
    "    return output\n",
    "\n",
    "def elem_mul(num, vector):\n",
    "    output = [0] * len(vector)\n",
    "    for i in range(len(vector)):\n",
    "        output[i] = num * vector[i]\n",
    "    return output\n",
    "\n",
    "def nn(input, weights):\n",
    "    return w_sum(input, weights)"
   ]
  },
  {
   "cell_type": "code",
   "execution_count": 115,
   "metadata": {},
   "outputs": [
    {
     "name": "stdout",
     "output_type": "stream",
     "text": [
      "Iteration: 0\n",
      "Prediction: 1.0\n",
      "Error: 0.0\n",
      "Derivatives: [0, 0.0, 0.0]\n",
      "Weights: [ 0.1         0.24885906 -0.00979866]\n",
      "New weights: [ 0.1         0.24885906 -0.00979866]\n",
      "\n",
      "Iteration: 1\n",
      "Prediction: 1.0\n",
      "Error: 0.0\n",
      "Derivatives: [0, 0.0, 0.0]\n",
      "Weights: [ 0.1         0.24885906 -0.00979866]\n",
      "New weights: [ 0.1         0.24885906 -0.00979866]\n",
      "\n",
      "Iteration: 2\n",
      "Prediction: 1.0\n",
      "Error: 0.0\n",
      "Derivatives: [0, 0.0, 0.0]\n",
      "Weights: [ 0.1         0.24885906 -0.00979866]\n",
      "New weights: [ 0.1         0.24885906 -0.00979866]\n",
      "\n"
     ]
    }
   ],
   "source": [
    "results = [1, 1, 0, 1]\n",
    "goal_pred = results[0]\n",
    "alpha = 0.1\n",
    "input = np.array([toes[0], wlrec[0], nfans[0]])\n",
    "\n",
    "# Learn\n",
    "for iter in range(3):\n",
    "    pred = nn(input, weights)\n",
    "\n",
    "    error = (pred - goal_pred) ** 2\n",
    "    derivatives = elem_mul(pred - goal_pred, input)\n",
    "    derivatives[0] = 0\n",
    "\n",
    "    print(\"Iteration:\", iter)\n",
    "    print(\"Prediction:\", pred)\n",
    "    print(\"Error:\", error)\n",
    "    print(\"Derivatives:\", derivatives)\n",
    "    print(\"Weights:\", weights)\n",
    "    for i in range(len(weights)):\n",
    "        weights[i] -= alpha * derivatives[i]\n",
    "    print(\"New weights:\", weights)\n",
    "    print()\n",
    "    "
   ]
  },
  {
   "cell_type": "code",
   "execution_count": null,
   "metadata": {},
   "outputs": [],
   "source": []
  }
 ],
 "metadata": {
  "kernelspec": {
   "display_name": "Python 3",
   "language": "python",
   "name": "python3"
  },
  "language_info": {
   "codemirror_mode": {
    "name": "ipython",
    "version": 3
   },
   "file_extension": ".py",
   "mimetype": "text/x-python",
   "name": "python",
   "nbconvert_exporter": "python",
   "pygments_lexer": "ipython3",
   "version": "3.8.0"
  }
 },
 "nbformat": 4,
 "nbformat_minor": 4
}
