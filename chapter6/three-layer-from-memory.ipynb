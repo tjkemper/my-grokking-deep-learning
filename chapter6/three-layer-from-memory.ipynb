{
 "cells": [
  {
   "cell_type": "code",
   "execution_count": 1,
   "metadata": {},
   "outputs": [],
   "source": [
    "import numpy as np\n",
    "np.random.seed(1)\n",
    "\n",
    "# Learning rate\n",
    "alpha = 0.2\n",
    "\n",
    "# NN size\n",
    "input_size = 3\n",
    "hidden_size = 4\n",
    "output_size = 1\n",
    "\n",
    "# Input data (Data for page 130)\n",
    "streetlights = np.array([\n",
    "    [1, 0, 1],\n",
    "    [0, 1, 1],\n",
    "    [0, 0, 1],\n",
    "    [1, 1, 1],\n",
    "])\n",
    "\n",
    "# Actual outputs\n",
    "walk_vs_stop = np.array([\n",
    "    [1], \n",
    "    [1],\n",
    "    [0],\n",
    "    [0],\n",
    "])\n",
    "\n",
    "# Weights (randomized)\n",
    "weights_0_1 = np.random.random((input_size, hidden_size)) * 2 - 1\n",
    "weights_1_2 = np.random.random((hidden_size, output_size)) * 2 - 1"
   ]
  },
  {
   "cell_type": "code",
   "execution_count": 2,
   "metadata": {},
   "outputs": [],
   "source": [
    "# Activation functions\n",
    "# max(0, x)\n",
    "def relu(x):\n",
    "    return (x > 0) * x\n",
    "\n",
    "# 1 if x > 0, else 0\n",
    "def relu2deriv(x):\n",
    "    return x > 0\n"
   ]
  },
  {
   "cell_type": "code",
   "execution_count": 3,
   "metadata": {},
   "outputs": [
    {
     "name": "stdout",
     "output_type": "stream",
     "text": [
      "Error: [[0.63423116]]\n",
      "Error: [[0.35838408]]\n",
      "Error: [[0.08301831]]\n",
      "Error: [[0.00646705]]\n",
      "Error: [[0.00032927]]\n",
      "Error: [[1.50556227e-05]]\n"
     ]
    }
   ],
   "source": [
    "# for many times\n",
    "for iteration in range(60):\n",
    "    layer_2_error = 0\n",
    "    \n",
    "    # for each training example\n",
    "    for row_index in range(len(streetlights)):\n",
    "        # Forward propagation (weighted sums to predict output)\n",
    "        layer_0 = streetlights[row_index:row_index + 1]\n",
    "        layer_1 = relu(np.dot(layer_0, weights_0_1))\n",
    "        layer_2 = np.dot(layer_1, weights_1_2)\n",
    "        \n",
    "        # Error/Delta\n",
    "        layer_2_error += (walk_vs_stop[row_index] - layer_2) ** 2\n",
    "        \n",
    "        layer_2_delta = walk_vs_stop[row_index] - layer_2\n",
    "        layer_1_delta = np.dot(layer_2_delta, weights_1_2.T) * relu2deriv(layer_1)\n",
    "    \n",
    "        # Adjust weights\n",
    "        weights_1_2 += alpha * np.dot(layer_1.T, layer_2_delta)\n",
    "        weights_0_1 += alpha * np.dot(layer_0.T, layer_1_delta)\n",
    "    if iteration % 10 == 9:\n",
    "        print(\"Error:\", layer_2_error)"
   ]
  },
  {
   "cell_type": "code",
   "execution_count": null,
   "metadata": {},
   "outputs": [],
   "source": []
  }
 ],
 "metadata": {
  "kernelspec": {
   "display_name": "Python36",
   "language": "python",
   "name": "python36"
  },
  "language_info": {
   "codemirror_mode": {
    "name": "ipython",
    "version": 3
   },
   "file_extension": ".py",
   "mimetype": "text/x-python",
   "name": "python",
   "nbconvert_exporter": "python",
   "pygments_lexer": "ipython3",
   "version": "3.6.8"
  }
 },
 "nbformat": 4,
 "nbformat_minor": 4
}
