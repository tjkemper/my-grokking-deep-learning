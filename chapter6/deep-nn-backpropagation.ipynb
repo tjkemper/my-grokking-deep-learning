{
 "cells": [
  {
   "cell_type": "code",
   "execution_count": 75,
   "metadata": {},
   "outputs": [],
   "source": [
    "import numpy as np\n",
    "np.random.seed(1)\n",
    "\n",
    "# Return max(x, 0)\n",
    "def relu(x):\n",
    "    return (x > 0) * x\n",
    "\n",
    "# Return 1 or 0\n",
    "def relu2deriv(output):\n",
    "    return output > 0\n",
    "\n",
    "alpha = 0.2\n",
    "hidden_size = 4\n",
    "\n",
    "# streetlights = np.array([\n",
    "#     [1, 0, 1],\n",
    "#     [0, 1, 1],\n",
    "#     [0, 0, 1],\n",
    "#     [1, 1, 1],\n",
    "#     [0, 1, 1],\n",
    "#     [1, 0, 1,],\n",
    "# ])\n",
    "\n",
    "# walk_vs_stop = np.array([\n",
    "#     [0], \n",
    "#     [1],\n",
    "#     [0],\n",
    "#     [1],\n",
    "#     [1],\n",
    "#     [0]\n",
    "# ])\n",
    "\n",
    "# Data for page 130\n",
    "streetlights = np.array([\n",
    "    [1, 0, 1],\n",
    "    [0, 1, 1],\n",
    "    [0, 0, 1],\n",
    "    [1, 1, 1],\n",
    "])\n",
    "\n",
    "walk_vs_stop = np.array([\n",
    "    [1], \n",
    "    [1],\n",
    "    [0],\n",
    "    [0],\n",
    "])\n",
    "\n",
    "weights_0_1 = np.random.random((3, hidden_size)) * 2 - 1\n",
    "weights_1_2 = np.random.random((hidden_size, 1)) * 2 - 1"
   ]
  },
  {
   "cell_type": "code",
   "execution_count": 76,
   "metadata": {},
   "outputs": [
    {
     "name": "stdout",
     "output_type": "stream",
     "text": [
      "Error: 0.6342311598444467\n",
      "Error: 0.35838407676317513\n",
      "Error: 0.0830183113303298\n",
      "Error: 0.006467054957103705\n",
      "Error: 0.0003292669000750734\n",
      "Error: 1.5055622665134859e-05\n"
     ]
    }
   ],
   "source": [
    "# For some reason using (goal_pred - pred) and then weights += alpha * derivative\n",
    "\n",
    "for iteration in range(60):\n",
    "    layer_2_error = 0\n",
    "    for i in range(len(streetlights)):\n",
    "        layer_0 = streetlights[i:i+1]\n",
    "        layer_1 = relu(np.dot(layer_0, weights_0_1))\n",
    "        layer_2 = np.dot(layer_1, weights_1_2)\n",
    "        \n",
    "        layer_2_error += np.sum((walk_vs_stop[i:i+1] - layer_2) ** 2)\n",
    "        \n",
    "        layer_2_delta = walk_vs_stop[i:i+1] - layer_2\n",
    "        layer_1_delta = np.dot(layer_2_delta, weights_1_2.T) * relu2deriv(layer_1)\n",
    "        \n",
    "        # weights += alpha * input * delta\n",
    "        weights_1_2 += alpha * np.dot(layer_1.T, layer_2_delta)\n",
    "        weights_0_1 += alpha * np.dot(layer_0.T, layer_1_delta)\n",
    "        \n",
    "    if iteration % 10 == 9:\n",
    "        print(\"Error:\", layer_2_error)\n",
    "\n",
    "\n",
    "\n",
    "\n",
    "              \n",
    "        "
   ]
  },
  {
   "cell_type": "code",
   "execution_count": null,
   "metadata": {},
   "outputs": [],
   "source": []
  }
 ],
 "metadata": {
  "kernelspec": {
   "display_name": "Python36",
   "language": "python",
   "name": "python36"
  },
  "language_info": {
   "codemirror_mode": {
    "name": "ipython",
    "version": 3
   },
   "file_extension": ".py",
   "mimetype": "text/x-python",
   "name": "python",
   "nbconvert_exporter": "python",
   "pygments_lexer": "ipython3",
   "version": "3.6.8"
  }
 },
 "nbformat": 4,
 "nbformat_minor": 4
}
