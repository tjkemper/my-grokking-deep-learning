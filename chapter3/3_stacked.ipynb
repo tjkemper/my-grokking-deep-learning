{
 "cells": [
  {
   "cell_type": "code",
   "execution_count": 1,
   "metadata": {},
   "outputs": [],
   "source": [
    "import numpy as np"
   ]
  },
  {
   "cell_type": "code",
   "execution_count": 9,
   "metadata": {},
   "outputs": [],
   "source": [
    "# toes wlrec fans\n",
    "ih_wgt = np.array([\n",
    "    [0.1, 0.2, -0.1], # hid[0]\n",
    "    [-0.1, 0.1, 0.9], # hid[1]\n",
    "    [0.1, 0.4, 0.1],  # hid[2]\n",
    "])\n",
    "\n",
    "# hid[0] hid[1] hid[2]\n",
    "hp_wgt = np.array([\n",
    "    [0.3, 1.1, -0.3], # hurt\n",
    "    [0.1, 0.2, 0.0],  # win\n",
    "    [0.0, 1.3, 0.1],  # sad\n",
    "])\n",
    "\n",
    "weights = [ih_wgt, hp_wgt]\n",
    "\n",
    "toes = np.array([8.5, 9.5, 9.9, 9.0])\n",
    "wlrec = np.array([0.65, 0.8, 0.8, 0.9])\n",
    "nfans = np.array([1.2, 1.3, 0.5, 1.0])\n",
    "input = np.array([toes[0], wlrec[0], nfans[0]])"
   ]
  },
  {
   "cell_type": "code",
   "execution_count": 14,
   "metadata": {},
   "outputs": [],
   "source": [
    "def nn(input, weights):\n",
    "    hidden = input.dot(weights[0])\n",
    "    print(\"hidden\", hidden)\n",
    "    prediction = hidden.dot(weights[1])\n",
    "    return prediction"
   ]
  },
  {
   "cell_type": "code",
   "execution_count": 15,
   "metadata": {},
   "outputs": [
    {
     "name": "stdout",
     "output_type": "stream",
     "text": [
      "hidden [ 0.905  2.245 -0.145]\n",
      "[ 0.496  1.256 -0.286]\n"
     ]
    }
   ],
   "source": [
    "print(nn(input, weights))"
   ]
  },
  {
   "cell_type": "code",
   "execution_count": null,
   "metadata": {},
   "outputs": [],
   "source": []
  }
 ],
 "metadata": {
  "kernelspec": {
   "display_name": "Python 3",
   "language": "python",
   "name": "python3"
  },
  "language_info": {
   "codemirror_mode": {
    "name": "ipython",
    "version": 3
   },
   "file_extension": ".py",
   "mimetype": "text/x-python",
   "name": "python",
   "nbconvert_exporter": "python",
   "pygments_lexer": "ipython3",
   "version": "3.8.0"
  }
 },
 "nbformat": 4,
 "nbformat_minor": 4
}
